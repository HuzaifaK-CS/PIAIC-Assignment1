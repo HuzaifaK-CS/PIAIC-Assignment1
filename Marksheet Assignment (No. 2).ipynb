{
 "cells": [
  {
   "cell_type": "markdown",
   "metadata": {},
   "source": [
    "Make a Student Marksheet and store the data in a file."
   ]
  },
  {
   "cell_type": "code",
   "execution_count": 21,
   "metadata": {},
   "outputs": [
    {
     "name": "stdout",
     "output_type": "stream",
     "text": [
      "Enter your Name: Huzaifa\n",
      "Enter maths marks: 70\n",
      "Enter computer marks: 70\n",
      "Enter physics marks: 70\n",
      "Do you want to add another Student (y/n): n\n",
      "\n",
      "\n",
      "\n",
      "\n",
      "Huzaifa's Marksheet\n",
      "\n",
      "maths's marks = 70\n",
      "\n",
      "computer's marks = 70\n",
      "\n",
      "physics's marks = 70\n",
      "\n",
      "Total = 210\n",
      "\n",
      "Average = 70\n",
      "\n"
     ]
    }
   ],
   "source": [
    "import csv\n",
    "sheet = open(\"marksheet.csv\",\"w\")\n",
    "def student():\n",
    "    student_name = input('Enter your Name: ')\n",
    "    subjects = ['maths','computer','physics']\n",
    "    marks = []\n",
    "    for i in subjects:\n",
    "        inputmark = int(input('Enter %s marks: ' %i))\n",
    "        marks.append(inputmark)\n",
    "        total = sum(marks)\n",
    "        average = sum(marks)/3.0\n",
    "        \n",
    "    sheet.write(\"\\n\\n%s's Marksheet\\n\" %student_name)\n",
    "    for a,b in zip(subjects,marks):\n",
    "        sheet.write(\"%s's marks = %s\\n\" % (a,b))\n",
    "    sheet.write(\"Total = %d\\n\" %total)\n",
    "    sheet.write(\"Average = %d\\n\" %average)\n",
    "        \n",
    "student()\n",
    "        \n",
    "x = input('Do you want to add another Student (y/n): ')\n",
    "while x == 'y':\n",
    "    student()\n",
    "    x = input('Do you want to add another Student (y/n): ')\n",
    "sheet.close()\n",
    "\n",
    "file = open(\"marksheet.csv\",\"r\")\n",
    "for k in file:\n",
    "    print(k)\n",
    "    \n",
    "file.close()"
   ]
  },
  {
   "cell_type": "code",
   "execution_count": null,
   "metadata": {},
   "outputs": [],
   "source": []
  }
 ],
 "metadata": {
  "kernelspec": {
   "display_name": "Python 3",
   "language": "python",
   "name": "python3"
  },
  "language_info": {
   "codemirror_mode": {
    "name": "ipython",
    "version": 3
   },
   "file_extension": ".py",
   "mimetype": "text/x-python",
   "name": "python",
   "nbconvert_exporter": "python",
   "pygments_lexer": "ipython3",
   "version": "3.7.3"
  }
 },
 "nbformat": 4,
 "nbformat_minor": 2
}
