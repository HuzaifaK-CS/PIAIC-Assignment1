{
 "cells": [
  {
   "cell_type": "code",
   "execution_count": 17,
   "metadata": {},
   "outputs": [
    {
     "name": "stdout",
     "output_type": "stream",
     "text": [
      "Enter File name: test.txt\n",
      "\n",
      " Words = 12 \n",
      " Spaces = 7 \n",
      " Tabs = 1 \n",
      " Non space characters = 39 \n",
      " Paragraphs = 2 \n",
      " Lines = 5\n"
     ]
    }
   ],
   "source": [
    "import os\n",
    "import sys\n",
    "\n",
    "def paragraph(jump):\n",
    "    f = open(jump, \"r\")\n",
    "    para = 0\n",
    "    line = 1\n",
    "    empty = True\n",
    "    for i in f:\n",
    "        if '\\n' in i:\n",
    "            line +=1\n",
    "            if len(i) < 2:\n",
    "                empty = True\n",
    "            elif len(i) > 2 and empty is True:\n",
    "                para += 1\n",
    "                empty = False\n",
    "            if empty is True:\n",
    "                par = 0\n",
    "            else:\n",
    "                par = para\n",
    "    f.close()\n",
    "    print(\" Paragraphs = {} \\n Lines = {}\".format(para,line))\n",
    " \n",
    "def txt(count):\n",
    "\n",
    "    readFile = open(count,\"r\")\n",
    "    space = tab = words = lines = characters = nonspace = 0\n",
    "    infile = readFile.read()\n",
    "    characters = len(infile)\n",
    "    words = len(infile.split())\n",
    "    tab = len(infile.split(\"\\t\")) -1\n",
    "    space = len(infile.split(\" \")) -1\n",
    "    nonspace = characters - space - tab\n",
    "    readFile.close()\n",
    "    \n",
    "    return words,space,tab,nonspace\n",
    "\n",
    "fileName = input('Enter File name: ')\n",
    "\n",
    "if os.path.isfile(fileName) is True:\n",
    "    words,space,tab,nonspace= txt(fileName)\n",
    "    print (\"\\n Words = {} \\n Spaces = {} \\n Tabs = {} \\n Non space characters = {} \".format(words,space,tab,nonspace))\n",
    "    paragraph(fileName)    \n",
    "else :\n",
    "    print(fileName, \"Not exists\") \n",
    "    "
   ]
  },
  {
   "cell_type": "code",
   "execution_count": 18,
   "metadata": {},
   "outputs": [
    {
     "name": "stdout",
     "output_type": "stream",
     "text": [
      "please enter comma seperated html file name: eg; file1.html,file2.html \n",
      "example_html_file.html\n",
      "Tags Parsing of file example_html_file.html :\n",
      "\n",
      " Opening tags dictionary : {'html': 1, 'head': 1, 'title': 1, 'style': 1, 'body': 1, 'h1': 1, 'p': 3, 'a': 1}\n",
      "\n",
      " Closing tags dictionary : {'title': 1, 'style': 1, 'head': 1, 'h1': 1, 'p': 3, 'a': 1, 'body': 1, 'html': 1}\n"
     ]
    }
   ],
   "source": [
    "from html.parser import HTMLParser\n",
    "import os\n",
    "import sys\n",
    "\n",
    "dictionarTags ={}\n",
    "dictionaryCloseTags ={}\n",
    "class MyHTMLParser(HTMLParser):\n",
    "    def handle_starttag(self, tag, attrs):\n",
    "        if tag not in dictionarTags:\n",
    "            dictionarTags[tag] = 1\n",
    "        else:\n",
    "            dictionarTags[tag]  +=1    \n",
    "    def display (self):  \n",
    "        print(\"\\n Opening tags dictionary : {}\".format(dictionarTags))\n",
    "        print(\"\\n Closing tags dictionary : {}\".format(dictionaryCloseTags))\n",
    "    def handle_endtag(self, tag):\n",
    "        if tag not in dictionaryCloseTags:\n",
    "            dictionaryCloseTags[tag] = 1\n",
    "        else:\n",
    "            dictionaryCloseTags[tag]  +=1 \n",
    "        \n",
    "fileNames = list(input(\"please enter comma seperated html file name: eg; file1.html,file2.html \\n\").split(','))\n",
    "for fileName in fileNames:\n",
    "    if os.path.isfile(fileName) is True:\n",
    "        parser = MyHTMLParser()\n",
    "        f = open(fileName, 'r')\n",
    "        data = f.read()\n",
    "        print(\"Tags Parsing of file {} :\".format(fileName))\n",
    "        parser.feed(data)\n",
    "        parser.display() \n",
    "        dictionarTags ={}\n",
    "    else :\n",
    "        print(fileName, \"Not exists\")"
   ]
  },
  {
   "cell_type": "code",
   "execution_count": null,
   "metadata": {},
   "outputs": [],
   "source": []
  }
 ],
 "metadata": {
  "kernelspec": {
   "display_name": "Python 3",
   "language": "python",
   "name": "python3"
  },
  "language_info": {
   "codemirror_mode": {
    "name": "ipython",
    "version": 3
   },
   "file_extension": ".py",
   "mimetype": "text/x-python",
   "name": "python",
   "nbconvert_exporter": "python",
   "pygments_lexer": "ipython3",
   "version": "3.7.3"
  }
 },
 "nbformat": 4,
 "nbformat_minor": 2
}
