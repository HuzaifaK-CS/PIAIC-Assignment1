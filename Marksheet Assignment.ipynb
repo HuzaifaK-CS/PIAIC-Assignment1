{
 "cells": [
  {
   "cell_type": "markdown",
   "metadata": {},
   "source": [
    "Make a Student Marksheet and store the data in a file."
   ]
  },
  {
   "cell_type": "code",
   "execution_count": 20,
   "metadata": {},
   "outputs": [
    {
     "name": "stdout",
     "output_type": "stream",
     "text": [
      "Enter your Name: huzaifa\n",
      "Enter maths marks: 74\n",
      "Enter computer marks: 83\n",
      "Enter physics marks: 90\n",
      "Do you want to add another Student (y/n): y\n",
      "Enter your Name: manish\n",
      "Enter maths marks: 83\n",
      "Enter computer marks: 90\n",
      "Enter physics marks: 21\n",
      "Do you want to add another Student (y/n): y\n",
      "Enter your Name: Rafay\n",
      "Enter maths marks: 49\n",
      "Enter computer marks: 70\n",
      "Enter physics marks: 81\n",
      "Do you want to add another Student (y/n): n\n",
      "\n",
      "\n",
      "\n",
      "\n",
      "huzaifa's Marksheet\n",
      "\n",
      "maths's marks = 74\n",
      "\n",
      "computer's marks = 83\n",
      "\n",
      "physics's marks = 90\n",
      "\n",
      "Total = 247\n",
      "\n",
      "Average = 82\n",
      "\n",
      "\n",
      "\n",
      "\n",
      "\n",
      "manish's Marksheet\n",
      "\n",
      "maths's marks = 83\n",
      "\n",
      "computer's marks = 90\n",
      "\n",
      "physics's marks = 21\n",
      "\n",
      "Total = 194\n",
      "\n",
      "Average = 64\n",
      "\n",
      "\n",
      "\n",
      "\n",
      "\n",
      "Rafay's Marksheet\n",
      "\n",
      "maths's marks = 49\n",
      "\n",
      "computer's marks = 70\n",
      "\n",
      "physics's marks = 81\n",
      "\n",
      "Total = 200\n",
      "\n",
      "Average = 66\n",
      "\n"
     ]
    }
   ],
   "source": [
    "sheet = open(\"marksheet.txt\",\"w\")\n",
    "def student():\n",
    "    student_name = input('Enter your Name: ')\n",
    "    subjects = ['maths','computer','physics']\n",
    "    marks = []\n",
    "    for i in subjects:\n",
    "        inputmark = int(input('Enter %s marks: ' %i))\n",
    "        marks.append(inputmark)\n",
    "        total = sum(marks)\n",
    "        average = sum(marks)/3.0\n",
    "        \n",
    "    sheet.write(\"\\n\\n%s's Marksheet\\n\" %student_name)\n",
    "    for a,b in zip(subjects,marks):\n",
    "        sheet.write(\"%s's marks = %s\\n\" % (a,b))\n",
    "    sheet.write(\"Total = %d\\n\" %total)\n",
    "    sheet.write(\"Average = %d\\n\" %average)\n",
    "        \n",
    "student()\n",
    "        \n",
    "x = input('Do you want to add another Student (y/n): ')\n",
    "while x == 'y':\n",
    "    student()\n",
    "    x = input('Do you want to add another Student (y/n): ')\n",
    "sheet.close()\n",
    "\n",
    "file = open(\"marksheet.txt\",\"r\")\n",
    "for k in file:\n",
    "    print(k)\n",
    "    \n",
    "file.close()"
   ]
  },
  {
   "cell_type": "code",
   "execution_count": null,
   "metadata": {},
   "outputs": [],
   "source": []
  }
 ],
 "metadata": {
  "kernelspec": {
   "display_name": "Python 3",
   "language": "python",
   "name": "python3"
  },
  "language_info": {
   "codemirror_mode": {
    "name": "ipython",
    "version": 3
   },
   "file_extension": ".py",
   "mimetype": "text/x-python",
   "name": "python",
   "nbconvert_exporter": "python",
   "pygments_lexer": "ipython3",
   "version": "3.7.3"
  }
 },
 "nbformat": 4,
 "nbformat_minor": 2
}
